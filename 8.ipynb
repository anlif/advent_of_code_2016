{
 "cells": [
  {
   "cell_type": "code",
   "execution_count": 68,
   "metadata": {
    "collapsed": true
   },
   "outputs": [],
   "source": [
    "inp_file = open('8.txt', 'r')\n",
    "inp = inp_file.read()\n",
    "lines = inp.split('\\n')[:-1]"
   ]
  },
  {
   "cell_type": "code",
   "execution_count": 69,
   "metadata": {
    "collapsed": true
   },
   "outputs": [],
   "source": [
    "import numpy as np\n",
    "import re"
   ]
  },
  {
   "cell_type": "markdown",
   "metadata": {},
   "source": [
    "# Part 1"
   ]
  },
  {
   "cell_type": "code",
   "execution_count": 70,
   "metadata": {
    "collapsed": false
   },
   "outputs": [],
   "source": [
    "def rect(num_row, num_col, display):\n",
    "    display[0:num_col, 0:num_row] = 1\n",
    "    return display\n",
    "\n",
    "def rot_row(row, num, display):\n",
    "    display[row] = np.roll(display[row], num)\n",
    "    return display\n",
    "\n",
    "def rot_col(col, num, display):\n",
    "    display[:, col] = np.roll(display[:, col], num)\n",
    "    return display\n",
    "\n",
    "def apply_command(display, command):\n",
    "    pat_rect = r'rect ([0-9]+)x([0-9]+)'\n",
    "    pat_rot_row = r'rotate row y=([0-9]+) by ([0-9]+)'\n",
    "    pat_rot_col = r'rotate column x=([0-9]+) by ([0-9]+)'\n",
    "    patterns = [pat_rect, pat_rot_row, pat_rot_col]\n",
    "    m_rect, m_row, m_col = map(lambda p: re.match(p, command), patterns)\n",
    "    \n",
    "    if sum(map(lambda x: x is not None, [m_rect, m_row, m_col])) != 1:\n",
    "        print('Pattern match error')\n",
    "        \n",
    "    if m_rect is not None:\n",
    "        return rect(int(m_rect.group(1)), int(m_rect.group(2)), display)\n",
    "    elif m_row is not None:\n",
    "        return rot_row(int(m_row.group(1)), int(m_row.group(2)), display)\n",
    "    elif m_col is not None:\n",
    "        return rot_col(int(m_col.group(1)), int(m_col.group(2)), display)\n",
    "    else:\n",
    "        return None"
   ]
  },
  {
   "cell_type": "code",
   "execution_count": 72,
   "metadata": {
    "collapsed": false
   },
   "outputs": [
    {
     "data": {
      "text/plain": [
       "110.0"
      ]
     },
     "execution_count": 72,
     "metadata": {},
     "output_type": "execute_result"
    }
   ],
   "source": [
    "end_display = reduce(apply_command, lines, np.zeros((6, 50)))\n",
    "np.sum(end_display)"
   ]
  },
  {
   "cell_type": "markdown",
   "metadata": {},
   "source": [
    "# Part 2"
   ]
  },
  {
   "cell_type": "code",
   "execution_count": 77,
   "metadata": {
    "collapsed": false
   },
   "outputs": [
    {
     "data": {
      "text/plain": [
       "<matplotlib.image.AxesImage at 0x10aa4a950>"
      ]
     },
     "execution_count": 77,
     "metadata": {},
     "output_type": "execute_result"
    },
    {
     "data": {
      "image/png": "[encoded data removed]",
      "text/plain": [
       "<matplotlib.figure.Figure at 0x10a6562d0>"
      ]
     },
     "metadata": {},
     "output_type": "display_data"
    }
   ],
   "source": [
    "import matplotlib.pyplot as plt\n",
    "%matplotlib inline\n",
    "plt.figure(figsize=(12,100))\n",
    "plt.imshow(end_display)"
   ]
  }
 ],
 "metadata": {
  "kernelspec": {
   "display_name": "Python 2",
   "language": "python",
   "name": "python2"
  },
  "language_info": {
   "codemirror_mode": {
    "name": "ipython",
    "version": 2
   },
   "file_extension": ".py",
   "mimetype": "text/x-python",
   "name": "python",
   "nbconvert_exporter": "python",
   "pygments_lexer": "ipython2",
   "version": "2.7.12"
  }
 },
 "nbformat": 4,
 "nbformat_minor": 0
}
