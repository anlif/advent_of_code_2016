{
 "cells": [
  {
   "cell_type": "code",
   "execution_count": 1,
   "metadata": {
    "collapsed": true
   },
   "outputs": [],
   "source": [
    "inp_file = open('7.txt', 'r')\n",
    "inp = inp_file.read()\n",
    "lines = inp.split('\\n')[:-1]"
   ]
  },
  {
   "cell_type": "markdown",
   "metadata": {},
   "source": [
    "# Part 1"
   ]
  },
  {
   "cell_type": "code",
   "execution_count": 2,
   "metadata": {
    "collapsed": false
   },
   "outputs": [],
   "source": [
    "import re"
   ]
  },
  {
   "cell_type": "code",
   "execution_count": 3,
   "metadata": {
    "collapsed": true
   },
   "outputs": [],
   "source": [
    "def split_ip(ip):\n",
    "    hypernet_pattern = r'\\[[a-z]*\\]'\n",
    "    supernet_pattern = r'[a-z]*\\[|\\][a-z]*'\n",
    "    supernet = re.split(hypernet_pattern, ip)\n",
    "    hypernet = re.split(supernet_pattern, ip)\n",
    "    return (supernet, hypernet)"
   ]
  },
  {
   "cell_type": "code",
   "execution_count": 4,
   "metadata": {
    "collapsed": true
   },
   "outputs": [],
   "source": [
    "def match_abba(s):\n",
    "    abba_pattern = r'.*([a-z])(?!\\1)([a-z])\\2\\1.*'\n",
    "    return re.match(abba_pattern, s) is not None"
   ]
  },
  {
   "cell_type": "code",
   "execution_count": 5,
   "metadata": {
    "collapsed": true
   },
   "outputs": [],
   "source": [
    "def supports_tls(ip):\n",
    "    supernet, hypernet = split_ip(ip)\n",
    "    return any(map(match_abba, supernet)) and not any(map(match_abba, hypernet))"
   ]
  },
  {
   "cell_type": "code",
   "execution_count": 6,
   "metadata": {
    "collapsed": false
   },
   "outputs": [
    {
     "data": {
      "text/plain": [
       "118"
      ]
     },
     "execution_count": 6,
     "metadata": {},
     "output_type": "execute_result"
    }
   ],
   "source": [
    "sum(map(supports_tls, lines))"
   ]
  },
  {
   "cell_type": "markdown",
   "metadata": {},
   "source": [
    "# Part 2"
   ]
  },
  {
   "cell_type": "code",
   "execution_count": 38,
   "metadata": {
    "collapsed": true
   },
   "outputs": [],
   "source": [
    "def supports_ssl(ip):\n",
    "    ssl_pattern_front = r'.*([a-z])(?!\\1)([a-z])\\1.*\\[[a-z]*\\2\\1\\2[a-z]*\\].*'\n",
    "    ssl_pattern_back = r'.*\\[[a-z]*([a-z])(?!\\1)([a-z])\\1[a-z]*\\].*\\2\\1\\2.*'\n",
    "    match_front = re.match(ssl_pattern_front, ip) is not None\n",
    "    match_back = re.match(ssl_pattern_back, ip) is not None\n",
    "    return match_front or match_back\n",
    "\n",
    "def supports_ssl2(ip):\n",
    "    first_pattern = r'[a-z]*([a-z])(?!\\1)([a-z])\\1.*\\[[a-z]*\\2\\1\\2[a-z]*\\].*'\n",
    "    rest_pattern = r'\\]'+first_pattern\n",
    "    reverse_pattern_first = r'.*\\[[a-z]*([a-z])(?!\\1)([a-z])\\1[a-z]*\\][a-z]*\\2\\1\\2.*'\n",
    "    reverse_pattern_rest =  r'.*\\[[a-z]*([a-z])(?!\\1)([a-z])\\1[a-z]*\\].*\\][a-z]*\\2\\1\\2.*'\n",
    "    match_first = re.match(first_pattern, ip) is not None\n",
    "    match_rest = re.match(rest_pattern, ip) is not None\n",
    "    match_reverse_first = re.match(reverse_pattern_first, ip) is not None\n",
    "    match_reverse_rest = re.match(reverse_pattern_rest, ip) is not None\n",
    "    return match_first or match_rest or match_reverse_first or match_reverse_rest"
   ]
  },
  {
   "cell_type": "code",
   "execution_count": 39,
   "metadata": {
    "collapsed": false
   },
   "outputs": [
    {
     "data": {
      "text/plain": [
       "[True, False, True, True]"
      ]
     },
     "execution_count": 39,
     "metadata": {},
     "output_type": "execute_result"
    }
   ],
   "source": [
    "test_str1 = 'aba[bab]xyz'\n",
    "test_str2 = 'xyx[xyx]xyx'\n",
    "test_str3 = 'aaa[kek]eke'\n",
    "test_str4 = 'zazbz[bzb]cdb'\n",
    "map(supports_ssl2, [test_str1, test_str2, test_str3, test_str4])"
   ]
  },
  {
   "cell_type": "code",
   "execution_count": 40,
   "metadata": {
    "collapsed": false
   },
   "outputs": [
    {
     "data": {
      "text/plain": [
       "221"
      ]
     },
     "execution_count": 40,
     "metadata": {},
     "output_type": "execute_result"
    }
   ],
   "source": [
    "sum(map(supports_ssl2, lines))"
   ]
  }
 ],
 "metadata": {
  "kernelspec": {
   "display_name": "Python 2",
   "language": "python",
   "name": "python2"
  },
  "language_info": {
   "codemirror_mode": {
    "name": "ipython",
    "version": 2
   },
   "file_extension": ".py",
   "mimetype": "text/x-python",
   "name": "python",
   "nbconvert_exporter": "python",
   "pygments_lexer": "ipython2",
   "version": "2.7.12"
  }
 },
 "nbformat": 4,
 "nbformat_minor": 0
}
