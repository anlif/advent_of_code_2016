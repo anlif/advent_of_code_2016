{
 "cells": [
  {
   "cell_type": "code",
   "execution_count": 14,
   "metadata": {
    "collapsed": false
   },
   "outputs": [],
   "source": [
    "test = \"L2, L3, L3, L4, R1, R2, L3, R3, R3, L1, L3, R2, R3, L3, R4, R3, R3, L1, L4, R4, L2, R5, R1, L5, R1, R3, L5, R2, L2, R2, R1, L1, L3, L3, R4, R5, R4, L1, L189, L2, R2, L5, R5, R45, L3, R4, R77, L1, R1, R194, R2, L5, L3, L2, L1, R5, L3, L3, L5, L5, L5, R2, L1, L2, L3, R2, R5, R4, L2, R3, R5, L2, L2, R3, L3, L2, L1, L3, R5, R4, R3, R2, L1, R2, L5, R4, L5, L4, R4, L2, R5, L3, L2, R4, L1, L2, R2, R3, L2, L5, R1, R1, R3, R4, R1, R2, R4, R5, L3, L5, L3, L3, R5, R4, R1, L3, R1, L3, R3, R3, R3, L1, R3, R4, L5, L3, L1, L5, L4, R4, R1, L4, R3, R3, R5, R4, R3, R3, L1, L2, R1, L4, L4, L3, L4, L3, L5, R2, R4, L2\"\n",
    "string_commands = map(str.strip, test.split(','))"
   ]
  },
  {
   "cell_type": "code",
   "execution_count": 20,
   "metadata": {
    "collapsed": false
   },
   "outputs": [],
   "source": [
    "directions = [s[0] for s in string_commands]\n",
    "lens = [int(s[1:]) for s in string_commands]"
   ]
  },
  {
   "cell_type": "code",
   "execution_count": 33,
   "metadata": {
    "collapsed": false
   },
   "outputs": [],
   "source": [
    "def add_command(curr_list, direction):\n",
    "    unit_vec_map = {(1,0,'R') : (0, 1),\n",
    "               (1,0,'L') : (0,-1),\n",
    "               (0,1,'R') : (-1,0),\n",
    "               (0,1,'L') : (1,0),\n",
    "               (-1,0,'R') : (0,-1),\n",
    "               (-1,0,'L') : (0,1),\n",
    "               (0,-1,'R') : (1,0),\n",
    "               (0,-1,'L') : (-1,0)}\n",
    "    (x_, y_) = curr_list[-1]\n",
    "    x, y = unit_vec_map[(x_, y_, direction)]\n",
    "    return curr_list + [(x,y)]\n",
    "unit_vectors = reduce(add_command, directions, [(1,0)])[1:]"
   ]
  },
  {
   "cell_type": "code",
   "execution_count": 36,
   "metadata": {
    "collapsed": true
   },
   "outputs": [],
   "source": [
    "vectors = [(a*u1, a*u2) for a, (u1, u2) in zip(lens, unit_vectors)]"
   ]
  },
  {
   "cell_type": "code",
   "execution_count": 41,
   "metadata": {
    "collapsed": false
   },
   "outputs": [
    {
     "name": "stdout",
     "output_type": "stream",
     "text": [
      "301\n"
     ]
    }
   ],
   "source": [
    "vec_sum = reduce(lambda s, v: (s[0]+v[0], s[1]+v[1]), vectors)\n",
    "manhattan_norm = vec_sum[0] + vec_sum[1]\n",
    "print(manhattan_norm)"
   ]
  }
 ],
 "metadata": {
  "kernelspec": {
   "display_name": "Python 2",
   "language": "python",
   "name": "python2"
  },
  "language_info": {
   "codemirror_mode": {
    "name": "ipython",
    "version": 2
   },
   "file_extension": ".py",
   "mimetype": "text/x-python",
   "name": "python",
   "nbconvert_exporter": "python",
   "pygments_lexer": "ipython2",
   "version": "2.7.12"
  }
 },
 "nbformat": 4,
 "nbformat_minor": 0
}
